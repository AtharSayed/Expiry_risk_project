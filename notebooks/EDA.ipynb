{
 "cells": [
  {
   "cell_type": "code",
   "execution_count": 1,
   "id": "7024c11c",
   "metadata": {},
   "outputs": [],
   "source": [
    "import os\n",
    "import numpy as np\n",
    "import pandas as pd\n",
    "import matplotlib.pyplot as plt\n",
    "seaborn_path = os.getenv(\"SEABORN_PATH\")\n"
   ]
  },
  {
   "cell_type": "code",
   "execution_count": 2,
   "id": "3cbd4b43",
   "metadata": {},
   "outputs": [
    {
     "name": "stdout",
     "output_type": "stream",
     "text": [
      "Seaborn Path: C:/Users/T8665/AppData/Roaming/Python/Python313/site-packages\n",
      "Seaborn version: 0.13.2\n"
     ]
    }
   ],
   "source": [
    "import os\n",
    "from dotenv import load_dotenv  # to load .env variables\n",
    "\n",
    "# Load environment variables from the .env file\n",
    "load_dotenv()\n",
    "\n",
    "# Check if the SEABORN_PATH environment variable is loaded correctly\n",
    "seaborn_path = os.getenv(\"SEABORN_PATH\")\n",
    "print(f\"Seaborn Path: {seaborn_path}\")  # Check if seaborn path is being read\n",
    "\n",
    "# Append seaborn path to sys.path\n",
    "if seaborn_path:\n",
    "    import sys\n",
    "    sys.path.append(seaborn_path)\n",
    "\n",
    "# Now safely import seaborn\n",
    "import seaborn as sns\n",
    "\n",
    "# Check seaborn version to confirm it is loaded correctly\n",
    "print(f\"Seaborn version: {sns.__version__}\")\n",
    "\n"
   ]
  },
  {
   "cell_type": "code",
   "execution_count": 2,
   "id": "594a4347",
   "metadata": {},
   "outputs": [],
   "source": [
    "# Load balanced dataset\n",
    "df = pd.read_csv(\"C:/Users/T8665/OneDrive - LTIMindtree/Desktop/Expiry_risk_project/data/raw/merged_inventory.csv\")"
   ]
  },
  {
   "cell_type": "code",
   "execution_count": 3,
   "id": "7b79e6d1",
   "metadata": {},
   "outputs": [
    {
     "data": {
      "text/html": [
       "<div>\n",
       "<style scoped>\n",
       "    .dataframe tbody tr th:only-of-type {\n",
       "        vertical-align: middle;\n",
       "    }\n",
       "\n",
       "    .dataframe tbody tr th {\n",
       "        vertical-align: top;\n",
       "    }\n",
       "\n",
       "    .dataframe thead th {\n",
       "        text-align: right;\n",
       "    }\n",
       "</style>\n",
       "<table border=\"1\" class=\"dataframe\">\n",
       "  <thead>\n",
       "    <tr style=\"text-align: right;\">\n",
       "      <th></th>\n",
       "      <th>Product_ID</th>\n",
       "      <th>Product_Name</th>\n",
       "      <th>Category</th>\n",
       "      <th>Supplier_ID</th>\n",
       "      <th>Supplier_Name</th>\n",
       "      <th>Stock_Quantity</th>\n",
       "      <th>Reorder_Level</th>\n",
       "      <th>Reorder_Quantity</th>\n",
       "      <th>Unit_Price</th>\n",
       "      <th>Date_Received</th>\n",
       "      <th>Last_Order_Date</th>\n",
       "      <th>Expiration_Date</th>\n",
       "      <th>Warehouse_Location</th>\n",
       "      <th>Sales_Volume</th>\n",
       "      <th>Inventory_Turnover_Rate</th>\n",
       "      <th>Status</th>\n",
       "      <th>Expiry_Class</th>\n",
       "    </tr>\n",
       "  </thead>\n",
       "  <tbody>\n",
       "    <tr>\n",
       "      <th>0</th>\n",
       "      <td>67-027-7269</td>\n",
       "      <td>Mushrooms</td>\n",
       "      <td>Fruits &amp; Vegetables</td>\n",
       "      <td>50-050-5707</td>\n",
       "      <td>Twitterbeat</td>\n",
       "      <td>35</td>\n",
       "      <td>19</td>\n",
       "      <td>30</td>\n",
       "      <td>$6.50</td>\n",
       "      <td>2025-01-06</td>\n",
       "      <td>2024-11-30</td>\n",
       "      <td>2025-08-09</td>\n",
       "      <td>615 Mayer Drive</td>\n",
       "      <td>88</td>\n",
       "      <td>6.0</td>\n",
       "      <td>Backordered</td>\n",
       "      <td>Expired</td>\n",
       "    </tr>\n",
       "    <tr>\n",
       "      <th>1</th>\n",
       "      <td>22-083-3347</td>\n",
       "      <td>Long Grain Rice</td>\n",
       "      <td>Grains &amp; Pulses</td>\n",
       "      <td>01-431-7544</td>\n",
       "      <td>Yodoo</td>\n",
       "      <td>69</td>\n",
       "      <td>82</td>\n",
       "      <td>58</td>\n",
       "      <td>$1.50</td>\n",
       "      <td>2024-07-07</td>\n",
       "      <td>2024-04-29</td>\n",
       "      <td>2025-07-12</td>\n",
       "      <td>38 Superior Road</td>\n",
       "      <td>34</td>\n",
       "      <td>22.0</td>\n",
       "      <td>Discontinued</td>\n",
       "      <td>Expired</td>\n",
       "    </tr>\n",
       "    <tr>\n",
       "      <th>2</th>\n",
       "      <td>21-013-3508</td>\n",
       "      <td>Cabbage</td>\n",
       "      <td>Fruits &amp; Vegetables</td>\n",
       "      <td>64-489-8494</td>\n",
       "      <td>Meevee</td>\n",
       "      <td>12</td>\n",
       "      <td>95</td>\n",
       "      <td>49</td>\n",
       "      <td>$1.00</td>\n",
       "      <td>2024-06-09</td>\n",
       "      <td>2024-06-13</td>\n",
       "      <td>2025-07-09</td>\n",
       "      <td>84305 Fair Oaks Plaza</td>\n",
       "      <td>25</td>\n",
       "      <td>23.0</td>\n",
       "      <td>Backordered</td>\n",
       "      <td>Expired</td>\n",
       "    </tr>\n",
       "    <tr>\n",
       "      <th>3</th>\n",
       "      <td>15-240-6267</td>\n",
       "      <td>Eggplant</td>\n",
       "      <td>Fruits &amp; Vegetables</td>\n",
       "      <td>12-983-3026</td>\n",
       "      <td>Mybuzz</td>\n",
       "      <td>91</td>\n",
       "      <td>55</td>\n",
       "      <td>94</td>\n",
       "      <td>$3.00</td>\n",
       "      <td>2024-03-11</td>\n",
       "      <td>2024-04-10</td>\n",
       "      <td>2025-07-02</td>\n",
       "      <td>25784 Old Gate Crossing</td>\n",
       "      <td>42</td>\n",
       "      <td>93.0</td>\n",
       "      <td>Active</td>\n",
       "      <td>Expired</td>\n",
       "    </tr>\n",
       "    <tr>\n",
       "      <th>4</th>\n",
       "      <td>70-871-4536</td>\n",
       "      <td>Swiss Cheese</td>\n",
       "      <td>Dairy</td>\n",
       "      <td>72-514-7323</td>\n",
       "      <td>Cogilith</td>\n",
       "      <td>29</td>\n",
       "      <td>4</td>\n",
       "      <td>17</td>\n",
       "      <td>$8.00</td>\n",
       "      <td>2025-01-19</td>\n",
       "      <td>2024-11-13</td>\n",
       "      <td>2025-03-16</td>\n",
       "      <td>5 Waxwing Junction</td>\n",
       "      <td>59</td>\n",
       "      <td>52.0</td>\n",
       "      <td>Active</td>\n",
       "      <td>Expired</td>\n",
       "    </tr>\n",
       "  </tbody>\n",
       "</table>\n",
       "</div>"
      ],
      "text/plain": [
       "    Product_ID     Product_Name             Category  Supplier_ID  \\\n",
       "0  67-027-7269        Mushrooms  Fruits & Vegetables  50-050-5707   \n",
       "1  22-083-3347  Long Grain Rice      Grains & Pulses  01-431-7544   \n",
       "2  21-013-3508          Cabbage  Fruits & Vegetables  64-489-8494   \n",
       "3  15-240-6267         Eggplant  Fruits & Vegetables  12-983-3026   \n",
       "4  70-871-4536     Swiss Cheese                Dairy  72-514-7323   \n",
       "\n",
       "  Supplier_Name  Stock_Quantity  Reorder_Level  Reorder_Quantity Unit_Price  \\\n",
       "0   Twitterbeat              35             19                30     $6.50    \n",
       "1         Yodoo              69             82                58     $1.50    \n",
       "2        Meevee              12             95                49     $1.00    \n",
       "3        Mybuzz              91             55                94     $3.00    \n",
       "4      Cogilith              29              4                17     $8.00    \n",
       "\n",
       "  Date_Received Last_Order_Date Expiration_Date       Warehouse_Location  \\\n",
       "0    2025-01-06      2024-11-30      2025-08-09          615 Mayer Drive   \n",
       "1    2024-07-07      2024-04-29      2025-07-12         38 Superior Road   \n",
       "2    2024-06-09      2024-06-13      2025-07-09    84305 Fair Oaks Plaza   \n",
       "3    2024-03-11      2024-04-10      2025-07-02  25784 Old Gate Crossing   \n",
       "4    2025-01-19      2024-11-13      2025-03-16       5 Waxwing Junction   \n",
       "\n",
       "   Sales_Volume  Inventory_Turnover_Rate        Status Expiry_Class  \n",
       "0            88                      6.0   Backordered      Expired  \n",
       "1            34                     22.0  Discontinued      Expired  \n",
       "2            25                     23.0   Backordered      Expired  \n",
       "3            42                     93.0        Active      Expired  \n",
       "4            59                     52.0        Active      Expired  "
      ]
     },
     "execution_count": 3,
     "metadata": {},
     "output_type": "execute_result"
    }
   ],
   "source": [
    "df.head()"
   ]
  },
  {
   "cell_type": "code",
   "execution_count": 4,
   "id": "a37ab12b",
   "metadata": {},
   "outputs": [
    {
     "name": "stdout",
     "output_type": "stream",
     "text": [
      "<class 'pandas.core.frame.DataFrame'>\n",
      "RangeIndex: 4470 entries, 0 to 4469\n",
      "Data columns (total 17 columns):\n",
      " #   Column                   Non-Null Count  Dtype  \n",
      "---  ------                   --------------  -----  \n",
      " 0   Product_ID               4470 non-null   object \n",
      " 1   Product_Name             4470 non-null   object \n",
      " 2   Category                 4467 non-null   object \n",
      " 3   Supplier_ID              4470 non-null   object \n",
      " 4   Supplier_Name            4470 non-null   object \n",
      " 5   Stock_Quantity           4470 non-null   int64  \n",
      " 6   Reorder_Level            4470 non-null   int64  \n",
      " 7   Reorder_Quantity         4470 non-null   int64  \n",
      " 8   Unit_Price               4470 non-null   object \n",
      " 9   Date_Received            4470 non-null   object \n",
      " 10  Last_Order_Date          4470 non-null   object \n",
      " 11  Expiration_Date          4470 non-null   object \n",
      " 12  Warehouse_Location       4470 non-null   object \n",
      " 13  Sales_Volume             4470 non-null   int64  \n",
      " 14  Inventory_Turnover_Rate  4470 non-null   float64\n",
      " 15  Status                   4470 non-null   object \n",
      " 16  Expiry_Class             4470 non-null   object \n",
      "dtypes: float64(1), int64(4), object(12)\n",
      "memory usage: 593.8+ KB\n"
     ]
    }
   ],
   "source": [
    "df.info()"
   ]
  },
  {
   "cell_type": "code",
   "execution_count": 5,
   "id": "dbe953a4",
   "metadata": {},
   "outputs": [
    {
     "data": {
      "text/plain": [
       "Product_ID                 0\n",
       "Product_Name               0\n",
       "Category                   3\n",
       "Supplier_ID                0\n",
       "Supplier_Name              0\n",
       "Stock_Quantity             0\n",
       "Reorder_Level              0\n",
       "Reorder_Quantity           0\n",
       "Unit_Price                 0\n",
       "Date_Received              0\n",
       "Last_Order_Date            0\n",
       "Expiration_Date            0\n",
       "Warehouse_Location         0\n",
       "Sales_Volume               0\n",
       "Inventory_Turnover_Rate    0\n",
       "Status                     0\n",
       "Expiry_Class               0\n",
       "dtype: int64"
      ]
     },
     "execution_count": 5,
     "metadata": {},
     "output_type": "execute_result"
    }
   ],
   "source": [
    "df.isnull().sum()"
   ]
  },
  {
   "cell_type": "code",
   "execution_count": 6,
   "id": "98e1acd3",
   "metadata": {},
   "outputs": [
    {
     "data": {
      "text/plain": [
       "Index(['Product_ID', 'Product_Name', 'Category', 'Supplier_ID',\n",
       "       'Supplier_Name', 'Stock_Quantity', 'Reorder_Level', 'Reorder_Quantity',\n",
       "       'Unit_Price', 'Date_Received', 'Last_Order_Date', 'Expiration_Date',\n",
       "       'Warehouse_Location', 'Sales_Volume', 'Inventory_Turnover_Rate',\n",
       "       'Status', 'Expiry_Class'],\n",
       "      dtype='object')"
      ]
     },
     "execution_count": 6,
     "metadata": {},
     "output_type": "execute_result"
    }
   ],
   "source": [
    "df.columns"
   ]
  },
  {
   "cell_type": "code",
   "execution_count": 7,
   "id": "9c03ba70",
   "metadata": {},
   "outputs": [
    {
     "data": {
      "text/plain": [
       "np.int64(0)"
      ]
     },
     "execution_count": 7,
     "metadata": {},
     "output_type": "execute_result"
    }
   ],
   "source": [
    "df.duplicated().sum()"
   ]
  },
  {
   "cell_type": "code",
   "execution_count": 8,
   "id": "2065d537",
   "metadata": {},
   "outputs": [
    {
     "name": "stdout",
     "output_type": "stream",
     "text": [
      "\n",
      "Unique Categories: 7\n",
      "Unique Products: 2490\n",
      "Unique Suppliers: 2490\n"
     ]
    }
   ],
   "source": [
    "# Unique counts\n",
    "print(\"\\nUnique Categories:\", df['Catagory'].nunique() if 'Catagory' in df else df['Category'].nunique())\n",
    "print(\"Unique Products:\", df['Product_ID'].nunique())\n",
    "print(\"Unique Suppliers:\", df['Supplier_ID'].nunique())"
   ]
  },
  {
   "cell_type": "code",
   "execution_count": 9,
   "id": "680e72e1",
   "metadata": {},
   "outputs": [
    {
     "data": {
      "text/html": [
       "<div>\n",
       "<style scoped>\n",
       "    .dataframe tbody tr th:only-of-type {\n",
       "        vertical-align: middle;\n",
       "    }\n",
       "\n",
       "    .dataframe tbody tr th {\n",
       "        vertical-align: top;\n",
       "    }\n",
       "\n",
       "    .dataframe thead th {\n",
       "        text-align: right;\n",
       "    }\n",
       "</style>\n",
       "<table border=\"1\" class=\"dataframe\">\n",
       "  <thead>\n",
       "    <tr style=\"text-align: right;\">\n",
       "      <th></th>\n",
       "      <th>Product_ID</th>\n",
       "      <th>Product_Name</th>\n",
       "      <th>Category</th>\n",
       "      <th>Supplier_ID</th>\n",
       "      <th>Supplier_Name</th>\n",
       "      <th>Stock_Quantity</th>\n",
       "      <th>Reorder_Level</th>\n",
       "      <th>Reorder_Quantity</th>\n",
       "      <th>Unit_Price</th>\n",
       "      <th>Date_Received</th>\n",
       "      <th>Last_Order_Date</th>\n",
       "      <th>Expiration_Date</th>\n",
       "      <th>Warehouse_Location</th>\n",
       "      <th>Sales_Volume</th>\n",
       "      <th>Inventory_Turnover_Rate</th>\n",
       "      <th>Status</th>\n",
       "      <th>Expiry_Class</th>\n",
       "    </tr>\n",
       "  </thead>\n",
       "  <tbody>\n",
       "    <tr>\n",
       "      <th>count</th>\n",
       "      <td>4470</td>\n",
       "      <td>4470</td>\n",
       "      <td>4467</td>\n",
       "      <td>4470</td>\n",
       "      <td>4470</td>\n",
       "      <td>4470.000000</td>\n",
       "      <td>4470.000000</td>\n",
       "      <td>4470.000000</td>\n",
       "      <td>4470</td>\n",
       "      <td>4470</td>\n",
       "      <td>4470</td>\n",
       "      <td>4470</td>\n",
       "      <td>4470</td>\n",
       "      <td>4470.000000</td>\n",
       "      <td>4470.000000</td>\n",
       "      <td>4470</td>\n",
       "      <td>4470</td>\n",
       "    </tr>\n",
       "    <tr>\n",
       "      <th>unique</th>\n",
       "      <td>2490</td>\n",
       "      <td>213</td>\n",
       "      <td>7</td>\n",
       "      <td>2490</td>\n",
       "      <td>1788</td>\n",
       "      <td>NaN</td>\n",
       "      <td>NaN</td>\n",
       "      <td>NaN</td>\n",
       "      <td>1164</td>\n",
       "      <td>555</td>\n",
       "      <td>545</td>\n",
       "      <td>539</td>\n",
       "      <td>2490</td>\n",
       "      <td>NaN</td>\n",
       "      <td>NaN</td>\n",
       "      <td>3</td>\n",
       "      <td>3</td>\n",
       "    </tr>\n",
       "    <tr>\n",
       "      <th>top</th>\n",
       "      <td>67-027-7269</td>\n",
       "      <td>Bread Flour</td>\n",
       "      <td>Fruits &amp; Vegetables</td>\n",
       "      <td>50-050-5707</td>\n",
       "      <td>Katz</td>\n",
       "      <td>NaN</td>\n",
       "      <td>NaN</td>\n",
       "      <td>NaN</td>\n",
       "      <td>$2.50</td>\n",
       "      <td>2024-11-05</td>\n",
       "      <td>2024-12-07</td>\n",
       "      <td>2025-09-12</td>\n",
       "      <td>615 Mayer Drive</td>\n",
       "      <td>NaN</td>\n",
       "      <td>NaN</td>\n",
       "      <td>Discontinued</td>\n",
       "      <td>Near_Expiry</td>\n",
       "    </tr>\n",
       "    <tr>\n",
       "      <th>freq</th>\n",
       "      <td>3</td>\n",
       "      <td>57</td>\n",
       "      <td>1282</td>\n",
       "      <td>3</td>\n",
       "      <td>36</td>\n",
       "      <td>NaN</td>\n",
       "      <td>NaN</td>\n",
       "      <td>NaN</td>\n",
       "      <td>297</td>\n",
       "      <td>31</td>\n",
       "      <td>28</td>\n",
       "      <td>99</td>\n",
       "      <td>3</td>\n",
       "      <td>NaN</td>\n",
       "      <td>NaN</td>\n",
       "      <td>1504</td>\n",
       "      <td>1990</td>\n",
       "    </tr>\n",
       "    <tr>\n",
       "      <th>mean</th>\n",
       "      <td>NaN</td>\n",
       "      <td>NaN</td>\n",
       "      <td>NaN</td>\n",
       "      <td>NaN</td>\n",
       "      <td>NaN</td>\n",
       "      <td>130.559284</td>\n",
       "      <td>51.771588</td>\n",
       "      <td>51.401790</td>\n",
       "      <td>NaN</td>\n",
       "      <td>NaN</td>\n",
       "      <td>NaN</td>\n",
       "      <td>NaN</td>\n",
       "      <td>NaN</td>\n",
       "      <td>124.519463</td>\n",
       "      <td>33.339889</td>\n",
       "      <td>NaN</td>\n",
       "      <td>NaN</td>\n",
       "    </tr>\n",
       "    <tr>\n",
       "      <th>std</th>\n",
       "      <td>NaN</td>\n",
       "      <td>NaN</td>\n",
       "      <td>NaN</td>\n",
       "      <td>NaN</td>\n",
       "      <td>NaN</td>\n",
       "      <td>150.081803</td>\n",
       "      <td>28.627162</td>\n",
       "      <td>29.125151</td>\n",
       "      <td>NaN</td>\n",
       "      <td>NaN</td>\n",
       "      <td>NaN</td>\n",
       "      <td>NaN</td>\n",
       "      <td>NaN</td>\n",
       "      <td>125.965297</td>\n",
       "      <td>33.321135</td>\n",
       "      <td>NaN</td>\n",
       "      <td>NaN</td>\n",
       "    </tr>\n",
       "    <tr>\n",
       "      <th>min</th>\n",
       "      <td>NaN</td>\n",
       "      <td>NaN</td>\n",
       "      <td>NaN</td>\n",
       "      <td>NaN</td>\n",
       "      <td>NaN</td>\n",
       "      <td>10.000000</td>\n",
       "      <td>1.000000</td>\n",
       "      <td>1.000000</td>\n",
       "      <td>NaN</td>\n",
       "      <td>NaN</td>\n",
       "      <td>NaN</td>\n",
       "      <td>NaN</td>\n",
       "      <td>NaN</td>\n",
       "      <td>10.000000</td>\n",
       "      <td>0.010000</td>\n",
       "      <td>NaN</td>\n",
       "      <td>NaN</td>\n",
       "    </tr>\n",
       "    <tr>\n",
       "      <th>25%</th>\n",
       "      <td>NaN</td>\n",
       "      <td>NaN</td>\n",
       "      <td>NaN</td>\n",
       "      <td>NaN</td>\n",
       "      <td>NaN</td>\n",
       "      <td>43.000000</td>\n",
       "      <td>27.000000</td>\n",
       "      <td>26.000000</td>\n",
       "      <td>NaN</td>\n",
       "      <td>NaN</td>\n",
       "      <td>NaN</td>\n",
       "      <td>NaN</td>\n",
       "      <td>NaN</td>\n",
       "      <td>46.000000</td>\n",
       "      <td>0.077925</td>\n",
       "      <td>NaN</td>\n",
       "      <td>NaN</td>\n",
       "    </tr>\n",
       "    <tr>\n",
       "      <th>50%</th>\n",
       "      <td>NaN</td>\n",
       "      <td>NaN</td>\n",
       "      <td>NaN</td>\n",
       "      <td>NaN</td>\n",
       "      <td>NaN</td>\n",
       "      <td>75.000000</td>\n",
       "      <td>53.000000</td>\n",
       "      <td>52.000000</td>\n",
       "      <td>NaN</td>\n",
       "      <td>NaN</td>\n",
       "      <td>NaN</td>\n",
       "      <td>NaN</td>\n",
       "      <td>NaN</td>\n",
       "      <td>73.000000</td>\n",
       "      <td>25.000000</td>\n",
       "      <td>NaN</td>\n",
       "      <td>NaN</td>\n",
       "    </tr>\n",
       "    <tr>\n",
       "      <th>75%</th>\n",
       "      <td>NaN</td>\n",
       "      <td>NaN</td>\n",
       "      <td>NaN</td>\n",
       "      <td>NaN</td>\n",
       "      <td>NaN</td>\n",
       "      <td>137.000000</td>\n",
       "      <td>77.000000</td>\n",
       "      <td>76.000000</td>\n",
       "      <td>NaN</td>\n",
       "      <td>NaN</td>\n",
       "      <td>NaN</td>\n",
       "      <td>NaN</td>\n",
       "      <td>NaN</td>\n",
       "      <td>129.000000</td>\n",
       "      <td>63.000000</td>\n",
       "      <td>NaN</td>\n",
       "      <td>NaN</td>\n",
       "    </tr>\n",
       "    <tr>\n",
       "      <th>max</th>\n",
       "      <td>NaN</td>\n",
       "      <td>NaN</td>\n",
       "      <td>NaN</td>\n",
       "      <td>NaN</td>\n",
       "      <td>NaN</td>\n",
       "      <td>864.000000</td>\n",
       "      <td>100.000000</td>\n",
       "      <td>100.000000</td>\n",
       "      <td>NaN</td>\n",
       "      <td>NaN</td>\n",
       "      <td>NaN</td>\n",
       "      <td>NaN</td>\n",
       "      <td>NaN</td>\n",
       "      <td>500.000000</td>\n",
       "      <td>100.000000</td>\n",
       "      <td>NaN</td>\n",
       "      <td>NaN</td>\n",
       "    </tr>\n",
       "  </tbody>\n",
       "</table>\n",
       "</div>"
      ],
      "text/plain": [
       "         Product_ID Product_Name             Category  Supplier_ID  \\\n",
       "count          4470         4470                 4467         4470   \n",
       "unique         2490          213                    7         2490   \n",
       "top     67-027-7269  Bread Flour  Fruits & Vegetables  50-050-5707   \n",
       "freq              3           57                 1282            3   \n",
       "mean            NaN          NaN                  NaN          NaN   \n",
       "std             NaN          NaN                  NaN          NaN   \n",
       "min             NaN          NaN                  NaN          NaN   \n",
       "25%             NaN          NaN                  NaN          NaN   \n",
       "50%             NaN          NaN                  NaN          NaN   \n",
       "75%             NaN          NaN                  NaN          NaN   \n",
       "max             NaN          NaN                  NaN          NaN   \n",
       "\n",
       "       Supplier_Name  Stock_Quantity  Reorder_Level  Reorder_Quantity  \\\n",
       "count           4470     4470.000000    4470.000000       4470.000000   \n",
       "unique          1788             NaN            NaN               NaN   \n",
       "top             Katz             NaN            NaN               NaN   \n",
       "freq              36             NaN            NaN               NaN   \n",
       "mean             NaN      130.559284      51.771588         51.401790   \n",
       "std              NaN      150.081803      28.627162         29.125151   \n",
       "min              NaN       10.000000       1.000000          1.000000   \n",
       "25%              NaN       43.000000      27.000000         26.000000   \n",
       "50%              NaN       75.000000      53.000000         52.000000   \n",
       "75%              NaN      137.000000      77.000000         76.000000   \n",
       "max              NaN      864.000000     100.000000        100.000000   \n",
       "\n",
       "       Unit_Price Date_Received Last_Order_Date Expiration_Date  \\\n",
       "count        4470          4470            4470            4470   \n",
       "unique       1164           555             545             539   \n",
       "top        $2.50     2024-11-05      2024-12-07      2025-09-12   \n",
       "freq          297            31              28              99   \n",
       "mean          NaN           NaN             NaN             NaN   \n",
       "std           NaN           NaN             NaN             NaN   \n",
       "min           NaN           NaN             NaN             NaN   \n",
       "25%           NaN           NaN             NaN             NaN   \n",
       "50%           NaN           NaN             NaN             NaN   \n",
       "75%           NaN           NaN             NaN             NaN   \n",
       "max           NaN           NaN             NaN             NaN   \n",
       "\n",
       "       Warehouse_Location  Sales_Volume  Inventory_Turnover_Rate  \\\n",
       "count                4470   4470.000000              4470.000000   \n",
       "unique               2490           NaN                      NaN   \n",
       "top       615 Mayer Drive           NaN                      NaN   \n",
       "freq                    3           NaN                      NaN   \n",
       "mean                  NaN    124.519463                33.339889   \n",
       "std                   NaN    125.965297                33.321135   \n",
       "min                   NaN     10.000000                 0.010000   \n",
       "25%                   NaN     46.000000                 0.077925   \n",
       "50%                   NaN     73.000000                25.000000   \n",
       "75%                   NaN    129.000000                63.000000   \n",
       "max                   NaN    500.000000               100.000000   \n",
       "\n",
       "              Status Expiry_Class  \n",
       "count           4470         4470  \n",
       "unique             3            3  \n",
       "top     Discontinued  Near_Expiry  \n",
       "freq            1504         1990  \n",
       "mean             NaN          NaN  \n",
       "std              NaN          NaN  \n",
       "min              NaN          NaN  \n",
       "25%              NaN          NaN  \n",
       "50%              NaN          NaN  \n",
       "75%              NaN          NaN  \n",
       "max              NaN          NaN  "
      ]
     },
     "execution_count": 9,
     "metadata": {},
     "output_type": "execute_result"
    }
   ],
   "source": [
    "df.describe(include=\"all\")"
   ]
  },
  {
   "cell_type": "code",
   "execution_count": 10,
   "id": "9607dfeb",
   "metadata": {},
   "outputs": [
    {
     "data": {
      "image/png": "[encoded data removed]",
      "text/plain": [
       "<Figure size 600x600 with 1 Axes>"
      ]
     },
     "metadata": {},
     "output_type": "display_data"
    }
   ],
   "source": [
    "# Expiry Class Distribution\n",
    "plt.figure(figsize=(6, 6))\n",
    "df['Expiry_Class'].value_counts().plot.pie(autopct='%1.1f%%', startangle=90, cmap='viridis')\n",
    "plt.title(\"Expiry Class Distribution\")\n",
    "plt.ylabel(\"\")\n",
    "plt.show()"
   ]
  },
  {
   "cell_type": "code",
   "execution_count": 11,
   "id": "758fabe1",
   "metadata": {},
   "outputs": [
    {
     "ename": "NameError",
     "evalue": "name 'sns' is not defined",
     "output_type": "error",
     "traceback": [
      "\u001b[31m---------------------------------------------------------------------------\u001b[39m",
      "\u001b[31mNameError\u001b[39m                                 Traceback (most recent call last)",
      "\u001b[36mCell\u001b[39m\u001b[36m \u001b[39m\u001b[32mIn[11]\u001b[39m\u001b[32m, line 3\u001b[39m\n\u001b[32m      1\u001b[39m \u001b[38;5;66;03m# Stock Quantity Distribution\u001b[39;00m\n\u001b[32m      2\u001b[39m plt.figure(figsize=(\u001b[32m8\u001b[39m, \u001b[32m5\u001b[39m))\n\u001b[32m----> \u001b[39m\u001b[32m3\u001b[39m \u001b[43msns\u001b[49m.histplot(df[\u001b[33m'\u001b[39m\u001b[33mStock_Quantity\u001b[39m\u001b[33m'\u001b[39m], bins=\u001b[32m20\u001b[39m, kde=\u001b[38;5;28;01mTrue\u001b[39;00m)\n\u001b[32m      4\u001b[39m plt.title(\u001b[33m\"\u001b[39m\u001b[33mDistribution of Stock Quantity\u001b[39m\u001b[33m\"\u001b[39m)\n\u001b[32m      5\u001b[39m plt.xlabel(\u001b[33m\"\u001b[39m\u001b[33mStock Quantity\u001b[39m\u001b[33m\"\u001b[39m)\n",
      "\u001b[31mNameError\u001b[39m: name 'sns' is not defined"
     ]
    },
    {
     "data": {
      "text/plain": [
       "<Figure size 800x500 with 0 Axes>"
      ]
     },
     "metadata": {},
     "output_type": "display_data"
    }
   ],
   "source": [
    "# Stock Quantity Distribution\n",
    "plt.figure(figsize=(8, 5))\n",
    "sns.histplot(df['Stock_Quantity'], bins=20, kde=True)\n",
    "plt.title(\"Distribution of Stock Quantity\")\n",
    "plt.xlabel(\"Stock Quantity\")\n",
    "plt.ylabel(\"Frequency\")\n",
    "plt.show()"
   ]
  },
  {
   "cell_type": "code",
   "execution_count": 12,
   "id": "e420314d",
   "metadata": {},
   "outputs": [
    {
     "name": "stdout",
     "output_type": "stream",
     "text": [
      "Expiry_Class\n",
      "Near_Expiry    1990\n",
      "Not_Expired    1490\n",
      "Expired         990\n",
      "Name: count, dtype: int64\n"
     ]
    }
   ],
   "source": [
    "print(df['Expiry_Class'].value_counts())"
   ]
  },
  {
   "cell_type": "code",
   "execution_count": 13,
   "id": "7836d2eb",
   "metadata": {},
   "outputs": [
    {
     "ename": "NameError",
     "evalue": "name 'sns' is not defined",
     "output_type": "error",
     "traceback": [
      "\u001b[31m---------------------------------------------------------------------------\u001b[39m",
      "\u001b[31mNameError\u001b[39m                                 Traceback (most recent call last)",
      "\u001b[36mCell\u001b[39m\u001b[36m \u001b[39m\u001b[32mIn[13]\u001b[39m\u001b[32m, line 3\u001b[39m\n\u001b[32m      1\u001b[39m \u001b[38;5;66;03m# Category Counts\u001b[39;00m\n\u001b[32m      2\u001b[39m plt.figure(figsize=(\u001b[32m10\u001b[39m, \u001b[32m5\u001b[39m))\n\u001b[32m----> \u001b[39m\u001b[32m3\u001b[39m \u001b[43msns\u001b[49m.countplot(data=df, x=\u001b[33m'\u001b[39m\u001b[33mCatagory\u001b[39m\u001b[33m'\u001b[39m \u001b[38;5;28;01mif\u001b[39;00m \u001b[33m'\u001b[39m\u001b[33mCatagory\u001b[39m\u001b[33m'\u001b[39m \u001b[38;5;129;01min\u001b[39;00m df \u001b[38;5;28;01melse\u001b[39;00m \u001b[33m'\u001b[39m\u001b[33mCategory\u001b[39m\u001b[33m'\u001b[39m, hue=\u001b[33m\"\u001b[39m\u001b[33mExpiry_Class\u001b[39m\u001b[33m\"\u001b[39m)\n\u001b[32m      4\u001b[39m plt.xticks(rotation=\u001b[32m45\u001b[39m)\n\u001b[32m      5\u001b[39m plt.title(\u001b[33m\"\u001b[39m\u001b[33mProduct Categories by Expiry Class\u001b[39m\u001b[33m\"\u001b[39m)\n",
      "\u001b[31mNameError\u001b[39m: name 'sns' is not defined"
     ]
    },
    {
     "data": {
      "text/plain": [
       "<Figure size 1000x500 with 0 Axes>"
      ]
     },
     "metadata": {},
     "output_type": "display_data"
    }
   ],
   "source": [
    "# Category Counts\n",
    "plt.figure(figsize=(10, 5))\n",
    "sns.countplot(data=df, x='Catagory' if 'Catagory' in df else 'Category', hue=\"Expiry_Class\")\n",
    "plt.xticks(rotation=45)\n",
    "plt.title(\"Product Categories by Expiry Class\")\n",
    "plt.show()"
   ]
  },
  {
   "cell_type": "code",
   "execution_count": 14,
   "id": "4df42879",
   "metadata": {},
   "outputs": [
    {
     "data": {
      "image/png": "[encoded data removed]",
      "text/plain": [
       "<Figure size 700x700 with 1 Axes>"
      ]
     },
     "metadata": {},
     "output_type": "display_data"
    }
   ],
   "source": [
    "# Status Distribution\n",
    "plt.figure(figsize=(7, 7))\n",
    "df['Status'].value_counts().plot.pie(autopct='%1.1f%%', startangle=90, cmap='coolwarm')\n",
    "plt.title(\"Product Status Distribution\")\n",
    "plt.ylabel(\"\")\n",
    "plt.show()"
   ]
  },
  {
   "cell_type": "code",
   "execution_count": 15,
   "id": "d6d7fa46",
   "metadata": {},
   "outputs": [
    {
     "ename": "NameError",
     "evalue": "name 'sns' is not defined",
     "output_type": "error",
     "traceback": [
      "\u001b[31m---------------------------------------------------------------------------\u001b[39m",
      "\u001b[31mNameError\u001b[39m                                 Traceback (most recent call last)",
      "\u001b[36mCell\u001b[39m\u001b[36m \u001b[39m\u001b[32mIn[15]\u001b[39m\u001b[32m, line 4\u001b[39m\n\u001b[32m      2\u001b[39m plt.figure(figsize=(\u001b[32m10\u001b[39m, \u001b[32m6\u001b[39m))\n\u001b[32m      3\u001b[39m numeric_cols = df.select_dtypes(include=[np.number]).columns\n\u001b[32m----> \u001b[39m\u001b[32m4\u001b[39m \u001b[43msns\u001b[49m.heatmap(df[numeric_cols].corr(), annot=\u001b[38;5;28;01mTrue\u001b[39;00m, cmap=\u001b[33m\"\u001b[39m\u001b[33mcoolwarm\u001b[39m\u001b[33m\"\u001b[39m, fmt=\u001b[33m\"\u001b[39m\u001b[33m.2f\u001b[39m\u001b[33m\"\u001b[39m)\n\u001b[32m      5\u001b[39m plt.title(\u001b[33m\"\u001b[39m\u001b[33mCorrelation Heatmap of Numeric Features\u001b[39m\u001b[33m\"\u001b[39m)\n\u001b[32m      6\u001b[39m plt.show()\n",
      "\u001b[31mNameError\u001b[39m: name 'sns' is not defined"
     ]
    },
    {
     "data": {
      "text/plain": [
       "<Figure size 1000x600 with 0 Axes>"
      ]
     },
     "metadata": {},
     "output_type": "display_data"
    }
   ],
   "source": [
    "# Correlation Heatmap (only numeric cols)\n",
    "plt.figure(figsize=(10, 6))\n",
    "numeric_cols = df.select_dtypes(include=[np.number]).columns\n",
    "sns.heatmap(df[numeric_cols].corr(), annot=True, cmap=\"coolwarm\", fmt=\".2f\")\n",
    "plt.title(\"Correlation Heatmap of Numeric Features\")\n",
    "plt.show()"
   ]
  },
  {
   "cell_type": "code",
   "execution_count": 16,
   "id": "be9fd9e2",
   "metadata": {},
   "outputs": [
    {
     "data": {
      "text/html": [
       "<div>\n",
       "<style scoped>\n",
       "    .dataframe tbody tr th:only-of-type {\n",
       "        vertical-align: middle;\n",
       "    }\n",
       "\n",
       "    .dataframe tbody tr th {\n",
       "        vertical-align: top;\n",
       "    }\n",
       "\n",
       "    .dataframe thead th {\n",
       "        text-align: right;\n",
       "    }\n",
       "</style>\n",
       "<table border=\"1\" class=\"dataframe\">\n",
       "  <thead>\n",
       "    <tr style=\"text-align: right;\">\n",
       "      <th></th>\n",
       "      <th>Product_ID</th>\n",
       "      <th>Product_Name</th>\n",
       "      <th>Category</th>\n",
       "      <th>Supplier_ID</th>\n",
       "      <th>Supplier_Name</th>\n",
       "      <th>Stock_Quantity</th>\n",
       "      <th>Reorder_Level</th>\n",
       "      <th>Reorder_Quantity</th>\n",
       "      <th>Unit_Price</th>\n",
       "      <th>Date_Received</th>\n",
       "      <th>Last_Order_Date</th>\n",
       "      <th>Expiration_Date</th>\n",
       "      <th>Warehouse_Location</th>\n",
       "      <th>Sales_Volume</th>\n",
       "      <th>Inventory_Turnover_Rate</th>\n",
       "      <th>Status</th>\n",
       "      <th>Expiry_Class</th>\n",
       "    </tr>\n",
       "  </thead>\n",
       "  <tbody>\n",
       "    <tr>\n",
       "      <th>211</th>\n",
       "      <td>10-378-9729</td>\n",
       "      <td>Cabbage</td>\n",
       "      <td>NaN</td>\n",
       "      <td>83-941-9620</td>\n",
       "      <td>Rooxo</td>\n",
       "      <td>69</td>\n",
       "      <td>21</td>\n",
       "      <td>68</td>\n",
       "      <td>$66.55</td>\n",
       "      <td>2024-12-23</td>\n",
       "      <td>2024-11-26</td>\n",
       "      <td>2025-08-14</td>\n",
       "      <td>2 Butterfield Pass</td>\n",
       "      <td>36</td>\n",
       "      <td>35.0</td>\n",
       "      <td>Discontinued</td>\n",
       "      <td>Expired</td>\n",
       "    </tr>\n",
       "    <tr>\n",
       "      <th>1201</th>\n",
       "      <td>10-378-9729</td>\n",
       "      <td>Cabbage</td>\n",
       "      <td>NaN</td>\n",
       "      <td>83-941-9620</td>\n",
       "      <td>Rooxo</td>\n",
       "      <td>69</td>\n",
       "      <td>21</td>\n",
       "      <td>68</td>\n",
       "      <td>$66.55</td>\n",
       "      <td>2024-12-23</td>\n",
       "      <td>2024-11-26</td>\n",
       "      <td>2025-09-13</td>\n",
       "      <td>2 Butterfield Pass</td>\n",
       "      <td>36</td>\n",
       "      <td>35.0</td>\n",
       "      <td>Discontinued</td>\n",
       "      <td>Near_Expiry</td>\n",
       "    </tr>\n",
       "    <tr>\n",
       "      <th>2191</th>\n",
       "      <td>10-378-9729</td>\n",
       "      <td>Cabbage</td>\n",
       "      <td>NaN</td>\n",
       "      <td>83-941-9620</td>\n",
       "      <td>Rooxo</td>\n",
       "      <td>69</td>\n",
       "      <td>21</td>\n",
       "      <td>68</td>\n",
       "      <td>$66.55</td>\n",
       "      <td>2024-12-23</td>\n",
       "      <td>2024-11-26</td>\n",
       "      <td>2025-11-09</td>\n",
       "      <td>2 Butterfield Pass</td>\n",
       "      <td>36</td>\n",
       "      <td>35.0</td>\n",
       "      <td>Discontinued</td>\n",
       "      <td>Not_Expired</td>\n",
       "    </tr>\n",
       "  </tbody>\n",
       "</table>\n",
       "</div>"
      ],
      "text/plain": [
       "       Product_ID Product_Name Category  Supplier_ID Supplier_Name  \\\n",
       "211   10-378-9729      Cabbage      NaN  83-941-9620         Rooxo   \n",
       "1201  10-378-9729      Cabbage      NaN  83-941-9620         Rooxo   \n",
       "2191  10-378-9729      Cabbage      NaN  83-941-9620         Rooxo   \n",
       "\n",
       "      Stock_Quantity  Reorder_Level  Reorder_Quantity Unit_Price  \\\n",
       "211               69             21                68    $66.55    \n",
       "1201              69             21                68    $66.55    \n",
       "2191              69             21                68    $66.55    \n",
       "\n",
       "     Date_Received Last_Order_Date Expiration_Date  Warehouse_Location  \\\n",
       "211     2024-12-23      2024-11-26      2025-08-14  2 Butterfield Pass   \n",
       "1201    2024-12-23      2024-11-26      2025-09-13  2 Butterfield Pass   \n",
       "2191    2024-12-23      2024-11-26      2025-11-09  2 Butterfield Pass   \n",
       "\n",
       "      Sales_Volume  Inventory_Turnover_Rate        Status Expiry_Class  \n",
       "211             36                     35.0  Discontinued      Expired  \n",
       "1201            36                     35.0  Discontinued  Near_Expiry  \n",
       "2191            36                     35.0  Discontinued  Not_Expired  "
      ]
     },
     "execution_count": 16,
     "metadata": {},
     "output_type": "execute_result"
    }
   ],
   "source": [
    "df[df['Category'].isnull()]"
   ]
  },
  {
   "cell_type": "code",
   "execution_count": 17,
   "id": "91e3bb9a",
   "metadata": {},
   "outputs": [
    {
     "name": "stderr",
     "output_type": "stream",
     "text": [
      "C:\\Users\\T8665\\AppData\\Local\\Temp\\ipykernel_2352\\1495867207.py:1: FutureWarning: A value is trying to be set on a copy of a DataFrame or Series through chained assignment using an inplace method.\n",
      "The behavior will change in pandas 3.0. This inplace method will never work because the intermediate object on which we are setting values always behaves as a copy.\n",
      "\n",
      "For example, when doing 'df[col].method(value, inplace=True)', try using 'df.method({col: value}, inplace=True)' or df[col] = df[col].method(value) instead, to perform the operation inplace on the original object.\n",
      "\n",
      "\n",
      "  df['Category'].fillna('Fruits & Vegetables', inplace=True)\n"
     ]
    }
   ],
   "source": [
    "df['Category'].fillna('Fruits & Vegetables', inplace=True)"
   ]
  },
  {
   "cell_type": "code",
   "execution_count": 18,
   "id": "5ca530ec",
   "metadata": {},
   "outputs": [
    {
     "data": {
      "text/plain": [
       "Product_ID                 0\n",
       "Product_Name               0\n",
       "Category                   0\n",
       "Supplier_ID                0\n",
       "Supplier_Name              0\n",
       "Stock_Quantity             0\n",
       "Reorder_Level              0\n",
       "Reorder_Quantity           0\n",
       "Unit_Price                 0\n",
       "Date_Received              0\n",
       "Last_Order_Date            0\n",
       "Expiration_Date            0\n",
       "Warehouse_Location         0\n",
       "Sales_Volume               0\n",
       "Inventory_Turnover_Rate    0\n",
       "Status                     0\n",
       "Expiry_Class               0\n",
       "dtype: int64"
      ]
     },
     "execution_count": 18,
     "metadata": {},
     "output_type": "execute_result"
    }
   ],
   "source": [
    "df.isnull().sum()"
   ]
  },
  {
   "cell_type": "code",
   "execution_count": 19,
   "id": "d494002f",
   "metadata": {},
   "outputs": [],
   "source": [
    "import os\n",
    "# Make sure folder exists\n",
    "os.makedirs(\"data/processed\", exist_ok=True)\n",
    "\n",
    "# Save file\n",
    "df.to_csv(\"C:/Users/T8665/OneDrive - LTIMindtree/Desktop/Expiry_risk_project/data/processed/intermediate.csv\", index=False)"
   ]
  }
 ],
 "metadata": {
  "kernelspec": {
   "display_name": "Python 3",
   "language": "python",
   "name": "python3"
  },
  "language_info": {
   "codemirror_mode": {
    "name": "ipython",
    "version": 3
   },
   "file_extension": ".py",
   "mimetype": "text/x-python",
   "name": "python",
   "nbconvert_exporter": "python",
   "pygments_lexer": "ipython3",
   "version": "3.13.6"
  }
 },
 "nbformat": 4,
 "nbformat_minor": 5
}
